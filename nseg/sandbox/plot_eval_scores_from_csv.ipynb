{
 "cells": [
  {
   "cell_type": "markdown",
   "metadata": {},
   "source": [
    "Plotting of final VOI and ERL scores from a CSV file, grouped by experiment configuration."
   ]
  },
  {
   "cell_type": "code",
   "execution_count": null,
   "metadata": {},
   "outputs": [],
   "source": [
    "import pandas as pd\n",
    "import numpy as np\n",
    "import seaborn as sns\n",
    "import matplotlib.pyplot as plt\n",
    "\n",
    "from pathlib import Path\n",
    "%matplotlib inline"
   ]
  },
  {
   "cell_type": "code",
   "execution_count": null,
   "metadata": {},
   "outputs": [],
   "source": [
    "scores_csv_path = Path('~/Dropbox/ma/res/benchmark-scores/grouped_scores_withrep.csv').expanduser()\n",
    "df = pd.read_csv(scores_csv_path)\n",
    "df = df.dropna(how='all')  # Drop rows with all NaN values\n",
    "# df = df.astype({'ingroup_rank': 'string'})\n",
    "\n",
    "df['rank_color'] = df.ingroup_rank.map({\n",
    "    1.0: 'blue',\n",
    "    2.0: 'orange',\n",
    "    3.0: 'green',\n",
    "    4.0: 'red',\n",
    "})\n",
    "\n",
    "sorted_group_names = [\n",
    "    'MTLSD',\n",
    "    'AFF',\n",
    "    'NSEG-A',\n",
    "    'NSEG-B',\n",
    "    'AFF *',\n",
    "    'MTLSD *',\n",
    "    'FFN *',\n",
    "    # 'ACLSD *',\n",
    "    # 'ACRLSD *'\n",
    "]\n",
    "\n",
    "INTEGRATE_REPORTED = True\n",
    "if INTEGRATE_REPORTED:\n",
    "    df['group_name'] = df['group_name'].str.replace(' *', '')\n",
    "    sorted_group_names = [g for g in sorted_group_names if ' *' not in g]\n",
    "    sorted_group_names.append('FFN')\n",
    "\n",
    "\n",
    "\n",
    "\n",
    "\n",
    "df = df[df.group_name.isin(sorted_group_names)]\n",
    "\n",
    "sns.set_theme(style=\"whitegrid\")\n",
    "sns.set_context(\"paper\", font_scale=1.6, rc={\"lines.linewidth\": 2.0})\n",
    "\n",
    "plot_dir = Path('~/Dropbox/ma/res/benchmark-scores/pres-plots').expanduser()\n",
    "plot_dir.mkdir(exist_ok=True)\n",
    "plot_ext = 'png'\n",
    "# plot_ext = 'pdf'\n",
    "\n",
    "fmt = '%.2f'\n",
    "\n",
    "figsize = (16, 7)\n",
    "\n",
    "# fig, axes = plt.subplots(1, 2, figsize=(20, 10), tight_layout=True)\n",
    "#\n",
    "# erl_ax, voi_ax = axes\n"
   ]
  },
  {
   "cell_type": "code",
   "execution_count": null,
   "metadata": {},
   "outputs": [],
   "source": [
    "df.plot(x='group_name', y='erl', kind='scatter', marker='_', figsize=figsize, s=2000, c='rank_color')\n",
    "plt.xlabel('')\n",
    "plt.ylabel('ERL')\n",
    "plt.ylim(5, 18)\n",
    "plt.show()"
   ]
  },
  {
   "cell_type": "code",
   "execution_count": null,
   "metadata": {},
   "outputs": [],
   "source": [
    "df.plot(x='group_name', y='voi', kind='scatter', marker='_', figsize=figsize, s=2000, c='rank_color')\n",
    "plt.xlabel('')\n",
    "plt.ylabel('VOI')\n",
    "plt.ylim(2, 6)\n",
    "plt.show()"
   ]
  }
 ],
 "metadata": {
  "kernelspec": {
   "display_name": "nseg",
   "language": "python",
   "name": "python3"
  },
  "language_info": {
   "codemirror_mode": {
    "name": "ipython",
    "version": 3
   },
   "file_extension": ".py",
   "mimetype": "text/x-python",
   "name": "python",
   "nbconvert_exporter": "python",
   "pygments_lexer": "ipython3",
   "version": "3.10.10"
  }
 },
 "nbformat": 4,
 "nbformat_minor": 2
}
